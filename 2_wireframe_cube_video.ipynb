{
 "cells": [
  {
   "cell_type": "code",
   "execution_count": 1,
   "metadata": {},
   "outputs": [],
   "source": [
    "import cv2\n",
    "import numpy as np\n",
    "\n",
    "from pose_vector_to_transformation_matrix import pose_vector_to_transformation_matrix\n",
    "from project_points import project_points\n",
    "from undistort_image import undistort_image"
   ]
  },
  {
   "cell_type": "code",
   "execution_count": 2,
   "metadata": {},
   "outputs": [],
   "source": [
    "# load camera poses\n",
    "pose_vectors = np.loadtxt('data/poses.txt')\n",
    "\n",
    "# load camera intrinsics\n",
    "K = np.loadtxt('data/K.txt')  # calibration matrix[3x3]\n",
    "D = np.loadtxt('data/D.txt')  # distortion coefficients[2x1]"
   ]
  },
  {
   "cell_type": "code",
   "execution_count": 3,
   "metadata": {},
   "outputs": [],
   "source": [
    "# calculate the cube points to then draw the image\n",
    "offset_x = 0.04 * 3\n",
    "offset_y = 0.04\n",
    "s = 2 * 0.04\n",
    "\n",
    "X, Y, Z = np.meshgrid(np.arange(2), np.arange(2), np.arange(-1, 1))\n",
    "p_W_cube = np.stack([\n",
    "    offset_x + X.flatten() * s,\n",
    "    offset_y + Y.flatten() * s,\n",
    "    Z.flatten() * s,\n",
    "    np.ones([8])], axis=-1)\n",
    "p_W_cube = p_W_cube.reshape(8, 1, 4)\n",
    "\n",
    "vertex_id = (\n",
    "    0, 2, 6, 4, # base layer of the cube\n",
    "    1, 3, 7, 5, # top layer of the cube\n",
    ")\n",
    "\n",
    "lines_id = (\n",
    "    [0, 1], [2, 3], [4, 5], [6, 7], # vertical lines\n",
    "    [0, 2], [2, 6], [6, 4], [4, 0], # base lines\n",
    "    [1, 3], [3, 7], [7, 5], [5, 1], # top lines\n",
    ")\n",
    "\n",
    "# set points in world coordinate\n",
    "num_pts_per_line = 40\n",
    "weights = np.linspace(0, 1, num_pts_per_line)[..., None]\n",
    "p_W_cube_all = np.zeros((num_pts_per_line * 12, 4))\n",
    "for ii, line in enumerate(lines_id):\n",
    "    indices = slice(ii * num_pts_per_line, (ii + 1) * num_pts_per_line)\n",
    "    p_W_cube_all[indices] = (weights * p_W_cube[line[0]] + (1 - weights) * p_W_cube[line[1]]).reshape(-1, 4)\n"
   ]
  },
  {
   "cell_type": "code",
   "execution_count": 4,
   "metadata": {},
   "outputs": [
    {
     "data": {
      "application/vnd.jupyter.widget-view+json": {
       "model_id": "4e09ffd81ab64ccba88b59d3d4b21878",
       "version_major": 2,
       "version_minor": 0
      },
      "text/plain": [
       "  0%|          | 0/120 [00:00<?, ?it/s]"
      ]
     },
     "metadata": {},
     "output_type": "display_data"
    }
   ],
   "source": [
    "from tqdm.notebook import tqdm\n",
    "from PIL import Image\n",
    "\n",
    "images = []\n",
    "\n",
    "for ii in tqdm(range(120)):\n",
    "    img_index = ii + 1\n",
    "    img = cv2.imread('data/images/img_{0:04d}.jpg'.format(img_index))\n",
    "\n",
    "    # undistort image with bilinear interpolation\n",
    "    img_undistorted = undistort_image(img, K, D, bilinear_interpolation=True)\n",
    "\n",
    "    # project the corners on the image\n",
    "    # compute the 4x4 homogeneous transformation matrix that maps points\n",
    "    # from the world to the camera coordinate frame\n",
    "\n",
    "    T_C_W = pose_vector_to_transformation_matrix(pose_vectors[ii, :])\n",
    "\n",
    "    # project on image coordinate\n",
    "    p_C_cube = np.matmul(T_C_W[None, :, :], p_W_cube_all[:, :, None]).squeeze(-1)\n",
    "    p_C_cube = p_C_cube[:, :3]\n",
    "\n",
    "    cube_pts = project_points(p_C_cube, K, np.zeros([2, 1]))\n",
    "    cube_pts_int = cube_pts.astype(int)\n",
    "    cube_pts_int = np.unique(cube_pts_int, axis=0)\n",
    "\n",
    "\n",
    "    # draw points\n",
    "    for x, y in cube_pts_int:\n",
    "        for iy in range(-1, 2):\n",
    "            for ix in range(-1, 2):\n",
    "                img_undistorted[y+iy, x+ix] = (0, 255, 0)\n",
    "\n",
    "    images.append(img_undistorted)\n",
    "\n",
    "Image.fromarray(images[-1])"
   ]
  },
  {
   "cell_type": "code",
   "execution_count": null,
   "metadata": {},
   "outputs": [],
   "source": [
    "from tqdm.notebook import tqdm\n",
    "from PIL import Image\n",
    "\n",
    "images = []\n",
    "\n",
    "for ii in tqdm(range(2)):\n",
    "    img_index = ii + 1\n",
    "    img = cv2.imread('data/images/img_{0:04d}.jpg'.format(img_index))\n",
    "\n",
    "    # undistort image with bilinear interpolation\n",
    "    img_undistorted = undistort_image(img, K, D, bilinear_interpolation=True)\n",
    "\n",
    "    # project the corners on the image\n",
    "    # compute the 4x4 homogeneous transformation matrix that maps points\n",
    "    # from the world to the camera coordinate frame\n",
    "\n",
    "    T_C_W = pose_vector_to_transformation_matrix(pose_vectors[ii, :])\n",
    "\n",
    "    # project on image coordinate\n",
    "    p_C_cube = np.matmul(T_C_W[None, :, :], p_W_cube_all[:, :, None]).squeeze(-1)\n",
    "    p_C_cube = p_C_cube[:, :3]\n",
    "\n",
    "    cube_pts = project_points(p_C_cube, K, np.zeros([2, 1]))\n",
    "    cube_pts_int = cube_pts.astype(int)\n",
    "    cube_pts_int = np.unique(cube_pts_int, axis=0)\n",
    "\n",
    "\n",
    "    # draw points\n",
    "    for x, y in cube_pts_int:\n",
    "        for iy in range(-1, 2):\n",
    "            for ix in range(-1, 2):\n",
    "                img_undistorted[y+iy, x+ix] = (0, 255, 0)\n",
    "\n",
    "    images.append(img_undistorted)\n",
    "\n",
    "Image.fromarray(images[-1])"
   ]
  },
  {
   "cell_type": "code",
   "execution_count": null,
   "metadata": {},
   "outputs": [],
   "source": [
    "import warnings\n",
    "\n",
    "# Save to video file\n",
    "fps = 20\n",
    "height, width, _ = images[10].shape\n",
    "fourcc = cv2.VideoWriter_fourcc(*'MJPG')\n",
    "video_filename = 'ar_wireframe_cube.avi'\n",
    "video_writer = cv2.VideoWriter(video_filename, fourcc, fps, (width, height))\n",
    "\n",
    "with warnings.catch_warnings(record=True):\n",
    "    for image in tqdm(images):\n",
    "        video_writer.write(image)\n",
    "\n",
    "video_writer.release()"
   ]
  },
  {
   "cell_type": "code",
   "execution_count": 6,
   "metadata": {},
   "outputs": [],
   "source": [
    "from matplotlib import animation\n",
    "from IPython.display import display, HTML\n",
    "\n",
    "import matplotlib.pyplot as plt\n",
    "\n",
    "def plot_sequence_images(image_array):\n",
    "    ''' Display images sequence as an animation in jupyter notebook\n",
    "\n",
    "    Args:\n",
    "        image_array(numpy.ndarray): image_array.shape equal to (num_images, height, width, num_channels)\n",
    "    '''\n",
    "    dpi = 72.0\n",
    "    xpixels, ypixels = image_array[0].shape[:2]\n",
    "    fig = plt.figure(figsize=(ypixels/dpi, xpixels/dpi), dpi=dpi)\n",
    "    im = plt.figimage(image_array[0])\n",
    "\n",
    "    def animate(i):\n",
    "        im.set_array(image_array[i])\n",
    "        return (im,)\n",
    "\n",
    "    anim = animation.FuncAnimation(fig, animate, frames=len(image_array), interval=33, repeat_delay=1, repeat=True)\n",
    "    display(HTML(anim.to_html5_video()))"
   ]
  },
  {
   "cell_type": "code",
   "execution_count": null,
   "metadata": {},
   "outputs": [],
   "source": [
    "plot_sequence_images(images)"
   ]
  }
 ],
 "metadata": {
  "kernelspec": {
   "display_name": "aue8089pa2",
   "language": "python",
   "name": "python3"
  },
  "language_info": {
   "codemirror_mode": {
    "name": "ipython",
    "version": 3
   },
   "file_extension": ".py",
   "mimetype": "text/x-python",
   "name": "python",
   "nbconvert_exporter": "python",
   "pygments_lexer": "ipython3",
   "version": "3.9.12"
  }
 },
 "nbformat": 4,
 "nbformat_minor": 2
}
